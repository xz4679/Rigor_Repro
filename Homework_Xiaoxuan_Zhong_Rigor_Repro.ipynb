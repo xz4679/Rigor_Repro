{
  "nbformat": 4,
  "nbformat_minor": 0,
  "metadata": {
    "colab": {
      "provenance": []
    },
    "kernelspec": {
      "name": "python3",
      "display_name": "Python 3"
    },
    "language_info": {
      "name": "python"
    }
  },
  "cells": [
    {
      "cell_type": "code",
      "execution_count": 8,
      "metadata": {
        "colab": {
          "base_uri": "https://localhost:8080/"
        },
        "id": "b0Tqgox6sQ2a",
        "outputId": "68b4f01b-974d-461e-f276-4ff7e695befa"
      },
      "outputs": [
        {
          "output_type": "stream",
          "name": "stdout",
          "text": [
            "2023-10-26\n"
          ]
        }
      ],
      "source": [
        "from datetime import date\n",
        "\n",
        "today = date.today()\n",
        "print(today)\n"
      ]
    },
    {
      "cell_type": "code",
      "source": [
        "print(2*5)"
      ],
      "metadata": {
        "id": "HU2Q7tWltAvg"
      },
      "execution_count": null,
      "outputs": []
    },
    {
      "cell_type": "markdown",
      "source": [
        "1. storing and manage data.\n",
        "  This ensures that research artifacts are organized and accessible. When we share the reposiotories, others can directly access the exact versions of scripts, data and other necessary components to reproduce the work. This transparency eliminates much of ambiguity surrounding computational processes and allows for precise replication of results.\n",
        "\n",
        "2. Tracking modifications\n",
        "  This brings another level of reliablity. Each modification made to project is logged with details about what was changed, by whom and the reasons. These records allows us to revisit previous version of the work, understand the change of research and identify when and where errors have been made and have been introduced. It provides a clear trail for other to follow, ensure the results reproducibility and also under each step and effort which leads to the final step\n",
        "\n",
        "3. inceasing efficiency for collobration\n",
        "  By hosting reposiotories publicly, researchers will be scrutinized, vetted and improved upon by the broader community. And I know one feature in GitHub: Forks. People can take projects and create their own version based on it, like having recipes and then add my own ingredients. So we can have new ideas and share. These tools not only ensure the work can be repeated by others, but also helping the community to provide feedbacks and communications."
      ],
      "metadata": {
        "id": "iohC849LuYii"
      }
    }
  ]
}